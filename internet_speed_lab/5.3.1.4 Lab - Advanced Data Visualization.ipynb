{
  "cells": [
    {
      "cell_type": "markdown",
      "metadata": {
        "id": "FIzusOtOeaw3"
      },
      "source": [
        "![Title](Images/cisco.png)"
      ]
    },
    {
      "cell_type": "markdown",
      "metadata": {
        "id": "1_71EhIheaw7"
      },
      "source": [
        "# Lab - Advanced Data Visualization "
      ]
    },
    {
      "cell_type": "markdown",
      "metadata": {
        "id": "rCcE4dGseaw7"
      },
      "source": [
        "### Objectives\n",
        "* **Part 1: Prepare the data**\n",
        "* **Part 2: Visualize the data**\n",
        "\n",
        "### Scenario/Background\n",
        "In this lab, you will learn how to combine an `SQLite` database, `JSON` files, and `pandas` `DataFrame`s. You will interface with a wrapper for the library `folium`, that enables you to plot data on a geographical map. You will produce a map of the United Kingdom divided in areas, each colored in a shade that is proportional to the internet speed, a very powerful way of understanding the data. With such a map, it will be very clear how internet speed vaires across England. You will learn how to find and fix problems in the data. \n",
        "\n",
        "### Required Resources\n",
        "* 1 PC with Internet access\n",
        "* Raspberry Pi version 2 or higher\n",
        "* Python libraries: `pandas`, `numpy`, `sqlite3`, `matplotlib`, `folium_utils`\n",
        "* Datafiles: LA_Poligons.json"
      ]
    },
    {
      "cell_type": "markdown",
      "metadata": {
        "id": "OXwHwotxeaw8"
      },
      "source": [
        "## Part 1: Prepare the data\n",
        "\n",
        "To use the `folium` library, we will modify the data to get it in the right format. At the moment, the data is in an SQLite database and we want to have it in a `pandas` `DataFrame`. A few more cahnges also need to be made.\n",
        "\n",
        "##### Step 1: Get the data and store it in a `pandas` `DataFrame`.\n",
        "\n",
        "First, we need to get the data. We are going to connect to the InternetSpeed database."
      ]
    },
    {
      "cell_type": "markdown",
      "metadata": {
        "id": "RV0i1XR2eaw9"
      },
      "source": [
        "###### a) Import the libraries.\n",
        "- `pandas`\n",
        "- `numpy`\n",
        "- `sqlite3`\n",
        "- `pyplot` (and use the style fivethirtyeight, or another one if you prefer)\n",
        "- `folium_utils`"
      ]
    },
    {
      "cell_type": "code",
      "execution_count": 17,
      "metadata": {
        "collapsed": true,
        "id": "OirX_f04eaw9"
      },
      "outputs": [],
      "source": [
        "# Code Cell 1\n",
        "# import ... \n",
        "# ...\n",
        "import pandas as pd\n",
        "import numpy as np\n",
        "import sqlite3\n",
        "import matplotlib.pyplot as plt\n",
        "import folium_utils\n",
        "plt.style.use('fivethirtyeight')\n",
        "%matplotlib inline"
      ]
    },
    {
      "cell_type": "markdown",
      "metadata": {
        "id": "egVEHd-qeaw_"
      },
      "source": [
        "###### b) Connect to the database.\n",
        "\n",
        "\n",
        "Now we need to go back to the database we created and populated in the second lab of Chapter 2:\n",
        "\n",
        "    ./Data/InternetSpeed.db\n",
        "A copy of the database is stored in your Chapter 5 folder. Connect to the database.    "
      ]
    },
    {
      "cell_type": "code",
      "execution_count": 18,
      "metadata": {
        "collapsed": true,
        "id": "VuCZ1SKmeaw_"
      },
      "outputs": [],
      "source": [
        "# Code Cell 2\n",
        "\n",
        "# Create the connection to the database\n",
        "conn = sqlite3.connect('/content/InternetSpeed.db')\n",
        "# Create a cursor\n",
        "cur = conn.cursor()\n"
      ]
    },
    {
      "cell_type": "markdown",
      "metadata": {
        "id": "43Lty7RReaxA"
      },
      "source": [
        "The database contains the table `average_speed` with the average ping time, upload speed, and download speed for the different Local Authorities in England. The first step in this lab is to read the data in the table into a `pandas` `DataFrame` with the function `.read_sql()`. \n",
        "\n",
        "This function needs a string containing the query to be executed and the variable that contains the connection to the database (see http://pandas.pydata.org/pandas-docs/stable/generated/pandas.read_sql.html for details). Assuming the query is stored in the variable `query`, the call\n",
        "\n",
        "    pd.read_sql(query)\n",
        "\n",
        "will return a `pandas` `DataFrame`.\n",
        "\n",
        "###### c) Store the data in a `DataFrame`.\n",
        "1. Write the query to select all the data in the table `average_speed`.\n",
        "2. Use `pandas` to put the results of the query into a `DataFrame`.\n"
      ]
    },
    {
      "cell_type": "code",
      "execution_count": 19,
      "metadata": {
        "collapsed": true,
        "id": "za9_74RTeaxA"
      },
      "outputs": [],
      "source": [
        "# Code Cell 3\n",
        "# Create a query to select all the data in the table average_speed\n",
        "query = 'SELECT * FROM average_speed'\n",
        "\n",
        "# Read the the data from the table into a DataFrame.\n",
        "df = pd.read_sql(query, conn)\n"
      ]
    },
    {
      "cell_type": "markdown",
      "metadata": {
        "id": "pFwEtB5ieaxB"
      },
      "source": [
        "###### Step 2: Clean the data.\n",
        "\n",
        "Using the `pandas` functions learned so far, explore the produced `Dataframe` and remove any unwanted columns."
      ]
    },
    {
      "cell_type": "markdown",
      "metadata": {
        "id": "l0ZKDiaXeaxB"
      },
      "source": [
        "###### a) Explore the data.\n",
        "Print the first few rows of the `DataFrame` df."
      ]
    },
    {
      "cell_type": "code",
      "execution_count": 20,
      "metadata": {
        "collapsed": true,
        "colab": {
          "base_uri": "https://localhost:8080/",
          "height": 206
        },
        "id": "D3GMJZwNeaxC",
        "outputId": "97f0764d-69b4-4322-c320-47228fc5a2ef"
      },
      "outputs": [
        {
          "output_type": "execute_result",
          "data": {
            "text/plain": [
              "   index       Area  Average_p  Average_u  Average_d\n",
              "0      0  E07000188   8.451897  21.114114  51.967713\n",
              "1      1  E07000101   8.317833  20.733028  51.709226\n",
              "2      2  E09000030   8.983481  22.469438  54.412001\n",
              "3      3  E09000031   8.956481  22.353593  55.138017\n",
              "4      4  E09000032   9.144285  22.859003  55.962499"
            ],
            "text/html": [
              "\n",
              "  <div id=\"df-4071eabf-bf32-40fd-9592-435e2a969b78\">\n",
              "    <div class=\"colab-df-container\">\n",
              "      <div>\n",
              "<style scoped>\n",
              "    .dataframe tbody tr th:only-of-type {\n",
              "        vertical-align: middle;\n",
              "    }\n",
              "\n",
              "    .dataframe tbody tr th {\n",
              "        vertical-align: top;\n",
              "    }\n",
              "\n",
              "    .dataframe thead th {\n",
              "        text-align: right;\n",
              "    }\n",
              "</style>\n",
              "<table border=\"1\" class=\"dataframe\">\n",
              "  <thead>\n",
              "    <tr style=\"text-align: right;\">\n",
              "      <th></th>\n",
              "      <th>index</th>\n",
              "      <th>Area</th>\n",
              "      <th>Average_p</th>\n",
              "      <th>Average_u</th>\n",
              "      <th>Average_d</th>\n",
              "    </tr>\n",
              "  </thead>\n",
              "  <tbody>\n",
              "    <tr>\n",
              "      <th>0</th>\n",
              "      <td>0</td>\n",
              "      <td>E07000188</td>\n",
              "      <td>8.451897</td>\n",
              "      <td>21.114114</td>\n",
              "      <td>51.967713</td>\n",
              "    </tr>\n",
              "    <tr>\n",
              "      <th>1</th>\n",
              "      <td>1</td>\n",
              "      <td>E07000101</td>\n",
              "      <td>8.317833</td>\n",
              "      <td>20.733028</td>\n",
              "      <td>51.709226</td>\n",
              "    </tr>\n",
              "    <tr>\n",
              "      <th>2</th>\n",
              "      <td>2</td>\n",
              "      <td>E09000030</td>\n",
              "      <td>8.983481</td>\n",
              "      <td>22.469438</td>\n",
              "      <td>54.412001</td>\n",
              "    </tr>\n",
              "    <tr>\n",
              "      <th>3</th>\n",
              "      <td>3</td>\n",
              "      <td>E09000031</td>\n",
              "      <td>8.956481</td>\n",
              "      <td>22.353593</td>\n",
              "      <td>55.138017</td>\n",
              "    </tr>\n",
              "    <tr>\n",
              "      <th>4</th>\n",
              "      <td>4</td>\n",
              "      <td>E09000032</td>\n",
              "      <td>9.144285</td>\n",
              "      <td>22.859003</td>\n",
              "      <td>55.962499</td>\n",
              "    </tr>\n",
              "  </tbody>\n",
              "</table>\n",
              "</div>\n",
              "      <button class=\"colab-df-convert\" onclick=\"convertToInteractive('df-4071eabf-bf32-40fd-9592-435e2a969b78')\"\n",
              "              title=\"Convert this dataframe to an interactive table.\"\n",
              "              style=\"display:none;\">\n",
              "        \n",
              "  <svg xmlns=\"http://www.w3.org/2000/svg\" height=\"24px\"viewBox=\"0 0 24 24\"\n",
              "       width=\"24px\">\n",
              "    <path d=\"M0 0h24v24H0V0z\" fill=\"none\"/>\n",
              "    <path d=\"M18.56 5.44l.94 2.06.94-2.06 2.06-.94-2.06-.94-.94-2.06-.94 2.06-2.06.94zm-11 1L8.5 8.5l.94-2.06 2.06-.94-2.06-.94L8.5 2.5l-.94 2.06-2.06.94zm10 10l.94 2.06.94-2.06 2.06-.94-2.06-.94-.94-2.06-.94 2.06-2.06.94z\"/><path d=\"M17.41 7.96l-1.37-1.37c-.4-.4-.92-.59-1.43-.59-.52 0-1.04.2-1.43.59L10.3 9.45l-7.72 7.72c-.78.78-.78 2.05 0 2.83L4 21.41c.39.39.9.59 1.41.59.51 0 1.02-.2 1.41-.59l7.78-7.78 2.81-2.81c.8-.78.8-2.07 0-2.86zM5.41 20L4 18.59l7.72-7.72 1.47 1.35L5.41 20z\"/>\n",
              "  </svg>\n",
              "      </button>\n",
              "      \n",
              "  <style>\n",
              "    .colab-df-container {\n",
              "      display:flex;\n",
              "      flex-wrap:wrap;\n",
              "      gap: 12px;\n",
              "    }\n",
              "\n",
              "    .colab-df-convert {\n",
              "      background-color: #E8F0FE;\n",
              "      border: none;\n",
              "      border-radius: 50%;\n",
              "      cursor: pointer;\n",
              "      display: none;\n",
              "      fill: #1967D2;\n",
              "      height: 32px;\n",
              "      padding: 0 0 0 0;\n",
              "      width: 32px;\n",
              "    }\n",
              "\n",
              "    .colab-df-convert:hover {\n",
              "      background-color: #E2EBFA;\n",
              "      box-shadow: 0px 1px 2px rgba(60, 64, 67, 0.3), 0px 1px 3px 1px rgba(60, 64, 67, 0.15);\n",
              "      fill: #174EA6;\n",
              "    }\n",
              "\n",
              "    [theme=dark] .colab-df-convert {\n",
              "      background-color: #3B4455;\n",
              "      fill: #D2E3FC;\n",
              "    }\n",
              "\n",
              "    [theme=dark] .colab-df-convert:hover {\n",
              "      background-color: #434B5C;\n",
              "      box-shadow: 0px 1px 3px 1px rgba(0, 0, 0, 0.15);\n",
              "      filter: drop-shadow(0px 1px 2px rgba(0, 0, 0, 0.3));\n",
              "      fill: #FFFFFF;\n",
              "    }\n",
              "  </style>\n",
              "\n",
              "      <script>\n",
              "        const buttonEl =\n",
              "          document.querySelector('#df-4071eabf-bf32-40fd-9592-435e2a969b78 button.colab-df-convert');\n",
              "        buttonEl.style.display =\n",
              "          google.colab.kernel.accessAllowed ? 'block' : 'none';\n",
              "\n",
              "        async function convertToInteractive(key) {\n",
              "          const element = document.querySelector('#df-4071eabf-bf32-40fd-9592-435e2a969b78');\n",
              "          const dataTable =\n",
              "            await google.colab.kernel.invokeFunction('convertToInteractive',\n",
              "                                                     [key], {});\n",
              "          if (!dataTable) return;\n",
              "\n",
              "          const docLinkHtml = 'Like what you see? Visit the ' +\n",
              "            '<a target=\"_blank\" href=https://colab.research.google.com/notebooks/data_table.ipynb>data table notebook</a>'\n",
              "            + ' to learn more about interactive tables.';\n",
              "          element.innerHTML = '';\n",
              "          dataTable['output_type'] = 'display_data';\n",
              "          await google.colab.output.renderOutput(dataTable, element);\n",
              "          const docLink = document.createElement('div');\n",
              "          docLink.innerHTML = docLinkHtml;\n",
              "          element.appendChild(docLink);\n",
              "        }\n",
              "      </script>\n",
              "    </div>\n",
              "  </div>\n",
              "  "
            ]
          },
          "metadata": {},
          "execution_count": 20
        }
      ],
      "source": [
        "# Code Cell 4\n",
        "df.head()\n"
      ]
    },
    {
      "cell_type": "markdown",
      "metadata": {
        "id": "7c4M3MwVeaxC"
      },
      "source": [
        "The column `index` is not needed for this exercise. \n",
        "\n",
        "###### b) Clean the data.\n",
        "Drop the column `index` from the `DataFrame`. Remember that the change is effective if the parameter `inplace` is set to True or if you assign the modified `DataFrame` to a new `DataFrame`. "
      ]
    },
    {
      "cell_type": "code",
      "execution_count": 21,
      "metadata": {
        "collapsed": true,
        "colab": {
          "base_uri": "https://localhost:8080/",
          "height": 224
        },
        "id": "1K7lfuJkeaxC",
        "outputId": "4b6789ac-83eb-4aa6-8630-0df04c8dc68d"
      },
      "outputs": [
        {
          "output_type": "stream",
          "name": "stdout",
          "text": [
            "(326, 4)\n"
          ]
        },
        {
          "output_type": "execute_result",
          "data": {
            "text/plain": [
              "        Area  Average_p  Average_u  Average_d\n",
              "0  E07000188   8.451897  21.114114  51.967713\n",
              "1  E07000101   8.317833  20.733028  51.709226\n",
              "2  E09000030   8.983481  22.469438  54.412001\n",
              "3  E09000031   8.956481  22.353593  55.138017\n",
              "4  E09000032   9.144285  22.859003  55.962499"
            ],
            "text/html": [
              "\n",
              "  <div id=\"df-864b89ca-88ee-44c6-8aa2-decef1b7ac78\">\n",
              "    <div class=\"colab-df-container\">\n",
              "      <div>\n",
              "<style scoped>\n",
              "    .dataframe tbody tr th:only-of-type {\n",
              "        vertical-align: middle;\n",
              "    }\n",
              "\n",
              "    .dataframe tbody tr th {\n",
              "        vertical-align: top;\n",
              "    }\n",
              "\n",
              "    .dataframe thead th {\n",
              "        text-align: right;\n",
              "    }\n",
              "</style>\n",
              "<table border=\"1\" class=\"dataframe\">\n",
              "  <thead>\n",
              "    <tr style=\"text-align: right;\">\n",
              "      <th></th>\n",
              "      <th>Area</th>\n",
              "      <th>Average_p</th>\n",
              "      <th>Average_u</th>\n",
              "      <th>Average_d</th>\n",
              "    </tr>\n",
              "  </thead>\n",
              "  <tbody>\n",
              "    <tr>\n",
              "      <th>0</th>\n",
              "      <td>E07000188</td>\n",
              "      <td>8.451897</td>\n",
              "      <td>21.114114</td>\n",
              "      <td>51.967713</td>\n",
              "    </tr>\n",
              "    <tr>\n",
              "      <th>1</th>\n",
              "      <td>E07000101</td>\n",
              "      <td>8.317833</td>\n",
              "      <td>20.733028</td>\n",
              "      <td>51.709226</td>\n",
              "    </tr>\n",
              "    <tr>\n",
              "      <th>2</th>\n",
              "      <td>E09000030</td>\n",
              "      <td>8.983481</td>\n",
              "      <td>22.469438</td>\n",
              "      <td>54.412001</td>\n",
              "    </tr>\n",
              "    <tr>\n",
              "      <th>3</th>\n",
              "      <td>E09000031</td>\n",
              "      <td>8.956481</td>\n",
              "      <td>22.353593</td>\n",
              "      <td>55.138017</td>\n",
              "    </tr>\n",
              "    <tr>\n",
              "      <th>4</th>\n",
              "      <td>E09000032</td>\n",
              "      <td>9.144285</td>\n",
              "      <td>22.859003</td>\n",
              "      <td>55.962499</td>\n",
              "    </tr>\n",
              "  </tbody>\n",
              "</table>\n",
              "</div>\n",
              "      <button class=\"colab-df-convert\" onclick=\"convertToInteractive('df-864b89ca-88ee-44c6-8aa2-decef1b7ac78')\"\n",
              "              title=\"Convert this dataframe to an interactive table.\"\n",
              "              style=\"display:none;\">\n",
              "        \n",
              "  <svg xmlns=\"http://www.w3.org/2000/svg\" height=\"24px\"viewBox=\"0 0 24 24\"\n",
              "       width=\"24px\">\n",
              "    <path d=\"M0 0h24v24H0V0z\" fill=\"none\"/>\n",
              "    <path d=\"M18.56 5.44l.94 2.06.94-2.06 2.06-.94-2.06-.94-.94-2.06-.94 2.06-2.06.94zm-11 1L8.5 8.5l.94-2.06 2.06-.94-2.06-.94L8.5 2.5l-.94 2.06-2.06.94zm10 10l.94 2.06.94-2.06 2.06-.94-2.06-.94-.94-2.06-.94 2.06-2.06.94z\"/><path d=\"M17.41 7.96l-1.37-1.37c-.4-.4-.92-.59-1.43-.59-.52 0-1.04.2-1.43.59L10.3 9.45l-7.72 7.72c-.78.78-.78 2.05 0 2.83L4 21.41c.39.39.9.59 1.41.59.51 0 1.02-.2 1.41-.59l7.78-7.78 2.81-2.81c.8-.78.8-2.07 0-2.86zM5.41 20L4 18.59l7.72-7.72 1.47 1.35L5.41 20z\"/>\n",
              "  </svg>\n",
              "      </button>\n",
              "      \n",
              "  <style>\n",
              "    .colab-df-container {\n",
              "      display:flex;\n",
              "      flex-wrap:wrap;\n",
              "      gap: 12px;\n",
              "    }\n",
              "\n",
              "    .colab-df-convert {\n",
              "      background-color: #E8F0FE;\n",
              "      border: none;\n",
              "      border-radius: 50%;\n",
              "      cursor: pointer;\n",
              "      display: none;\n",
              "      fill: #1967D2;\n",
              "      height: 32px;\n",
              "      padding: 0 0 0 0;\n",
              "      width: 32px;\n",
              "    }\n",
              "\n",
              "    .colab-df-convert:hover {\n",
              "      background-color: #E2EBFA;\n",
              "      box-shadow: 0px 1px 2px rgba(60, 64, 67, 0.3), 0px 1px 3px 1px rgba(60, 64, 67, 0.15);\n",
              "      fill: #174EA6;\n",
              "    }\n",
              "\n",
              "    [theme=dark] .colab-df-convert {\n",
              "      background-color: #3B4455;\n",
              "      fill: #D2E3FC;\n",
              "    }\n",
              "\n",
              "    [theme=dark] .colab-df-convert:hover {\n",
              "      background-color: #434B5C;\n",
              "      box-shadow: 0px 1px 3px 1px rgba(0, 0, 0, 0.15);\n",
              "      filter: drop-shadow(0px 1px 2px rgba(0, 0, 0, 0.3));\n",
              "      fill: #FFFFFF;\n",
              "    }\n",
              "  </style>\n",
              "\n",
              "      <script>\n",
              "        const buttonEl =\n",
              "          document.querySelector('#df-864b89ca-88ee-44c6-8aa2-decef1b7ac78 button.colab-df-convert');\n",
              "        buttonEl.style.display =\n",
              "          google.colab.kernel.accessAllowed ? 'block' : 'none';\n",
              "\n",
              "        async function convertToInteractive(key) {\n",
              "          const element = document.querySelector('#df-864b89ca-88ee-44c6-8aa2-decef1b7ac78');\n",
              "          const dataTable =\n",
              "            await google.colab.kernel.invokeFunction('convertToInteractive',\n",
              "                                                     [key], {});\n",
              "          if (!dataTable) return;\n",
              "\n",
              "          const docLinkHtml = 'Like what you see? Visit the ' +\n",
              "            '<a target=\"_blank\" href=https://colab.research.google.com/notebooks/data_table.ipynb>data table notebook</a>'\n",
              "            + ' to learn more about interactive tables.';\n",
              "          element.innerHTML = '';\n",
              "          dataTable['output_type'] = 'display_data';\n",
              "          await google.colab.output.renderOutput(dataTable, element);\n",
              "          const docLink = document.createElement('div');\n",
              "          docLink.innerHTML = docLinkHtml;\n",
              "          element.appendChild(docLink);\n",
              "        }\n",
              "      </script>\n",
              "    </div>\n",
              "  </div>\n",
              "  "
            ]
          },
          "metadata": {},
          "execution_count": 21
        }
      ],
      "source": [
        "# Code Cell 5\n",
        "df.drop('index', inplace = True, axis=1)\n",
        "\n",
        "print(df.shape)\n",
        "df.head()"
      ]
    },
    {
      "cell_type": "markdown",
      "metadata": {
        "id": "A353hSSieaxD"
      },
      "source": [
        "##### Step 3: Learn about `JSON` files.\n",
        "\n",
        "The map will be created by drawing the borders of each Local Authority and coloring them according to a colormap. The color coded map will indicate the relative Internet speed of an area with respect to other areas. \n",
        "\n",
        "Each area is represented by a polygon, which will be drawn on our map. The edges of each polygon represent the borders of each Local Authority. A `JSON` file is provided, containing the coordinates of the borders of each Local Authority.  \n",
        "\n",
        "`JSON` is a popular alternative to XML, and it is a format used to store and exchange data (to learn more about `JSON` see  http://www.w3schools.com/js/js_json_intro.asp).\n",
        "\n",
        "###### a) Open and observe the file.\n",
        "    \n",
        "    LA_poligons.json\n",
        "    \n",
        "Similar to the functionalities provided for reading `csv` files and `SQL` tables, it is possible to read the content of a `JSON` file in a `pandas` `DataFrame` with the method `read_json()`. This method takes an input string containing the path to the file we intend to read (see this documentation for more details: http://pandas.pydata.org/pandas-docs/stable/generated/pandas.read_json.html).\n",
        "\n",
        "###### b) Read `LA_poligons.json` into a `pandas` `DataFrame`, and then visualize the first few rows. "
      ]
    },
    {
      "cell_type": "code",
      "execution_count": 22,
      "metadata": {
        "collapsed": true,
        "colab": {
          "base_uri": "https://localhost:8080/",
          "height": 206
        },
        "id": "4bEXWB7aeaxD",
        "outputId": "c8adbf09-be33-44eb-864f-9fca03c353d7"
      },
      "outputs": [
        {
          "output_type": "execute_result",
          "data": {
            "text/plain": [
              "     LA_code                                           geometry\n",
              "0  E06000001  {u'type': u'MultiPolygon', u'coordinates': [[[...\n",
              "1  E06000002  {u'type': u'MultiPolygon', u'coordinates': [[[...\n",
              "2  E06000003  {u'type': u'MultiPolygon', u'coordinates': [[[...\n",
              "3  E06000004  {u'type': u'MultiPolygon', u'coordinates': [[[...\n",
              "4  E06000005  {u'type': u'Polygon', u'coordinates': [[[-1.63..."
            ],
            "text/html": [
              "\n",
              "  <div id=\"df-67f5942c-1280-4a2f-b98d-efda52ec257e\">\n",
              "    <div class=\"colab-df-container\">\n",
              "      <div>\n",
              "<style scoped>\n",
              "    .dataframe tbody tr th:only-of-type {\n",
              "        vertical-align: middle;\n",
              "    }\n",
              "\n",
              "    .dataframe tbody tr th {\n",
              "        vertical-align: top;\n",
              "    }\n",
              "\n",
              "    .dataframe thead th {\n",
              "        text-align: right;\n",
              "    }\n",
              "</style>\n",
              "<table border=\"1\" class=\"dataframe\">\n",
              "  <thead>\n",
              "    <tr style=\"text-align: right;\">\n",
              "      <th></th>\n",
              "      <th>LA_code</th>\n",
              "      <th>geometry</th>\n",
              "    </tr>\n",
              "  </thead>\n",
              "  <tbody>\n",
              "    <tr>\n",
              "      <th>0</th>\n",
              "      <td>E06000001</td>\n",
              "      <td>{u'type': u'MultiPolygon', u'coordinates': [[[...</td>\n",
              "    </tr>\n",
              "    <tr>\n",
              "      <th>1</th>\n",
              "      <td>E06000002</td>\n",
              "      <td>{u'type': u'MultiPolygon', u'coordinates': [[[...</td>\n",
              "    </tr>\n",
              "    <tr>\n",
              "      <th>2</th>\n",
              "      <td>E06000003</td>\n",
              "      <td>{u'type': u'MultiPolygon', u'coordinates': [[[...</td>\n",
              "    </tr>\n",
              "    <tr>\n",
              "      <th>3</th>\n",
              "      <td>E06000004</td>\n",
              "      <td>{u'type': u'MultiPolygon', u'coordinates': [[[...</td>\n",
              "    </tr>\n",
              "    <tr>\n",
              "      <th>4</th>\n",
              "      <td>E06000005</td>\n",
              "      <td>{u'type': u'Polygon', u'coordinates': [[[-1.63...</td>\n",
              "    </tr>\n",
              "  </tbody>\n",
              "</table>\n",
              "</div>\n",
              "      <button class=\"colab-df-convert\" onclick=\"convertToInteractive('df-67f5942c-1280-4a2f-b98d-efda52ec257e')\"\n",
              "              title=\"Convert this dataframe to an interactive table.\"\n",
              "              style=\"display:none;\">\n",
              "        \n",
              "  <svg xmlns=\"http://www.w3.org/2000/svg\" height=\"24px\"viewBox=\"0 0 24 24\"\n",
              "       width=\"24px\">\n",
              "    <path d=\"M0 0h24v24H0V0z\" fill=\"none\"/>\n",
              "    <path d=\"M18.56 5.44l.94 2.06.94-2.06 2.06-.94-2.06-.94-.94-2.06-.94 2.06-2.06.94zm-11 1L8.5 8.5l.94-2.06 2.06-.94-2.06-.94L8.5 2.5l-.94 2.06-2.06.94zm10 10l.94 2.06.94-2.06 2.06-.94-2.06-.94-.94-2.06-.94 2.06-2.06.94z\"/><path d=\"M17.41 7.96l-1.37-1.37c-.4-.4-.92-.59-1.43-.59-.52 0-1.04.2-1.43.59L10.3 9.45l-7.72 7.72c-.78.78-.78 2.05 0 2.83L4 21.41c.39.39.9.59 1.41.59.51 0 1.02-.2 1.41-.59l7.78-7.78 2.81-2.81c.8-.78.8-2.07 0-2.86zM5.41 20L4 18.59l7.72-7.72 1.47 1.35L5.41 20z\"/>\n",
              "  </svg>\n",
              "      </button>\n",
              "      \n",
              "  <style>\n",
              "    .colab-df-container {\n",
              "      display:flex;\n",
              "      flex-wrap:wrap;\n",
              "      gap: 12px;\n",
              "    }\n",
              "\n",
              "    .colab-df-convert {\n",
              "      background-color: #E8F0FE;\n",
              "      border: none;\n",
              "      border-radius: 50%;\n",
              "      cursor: pointer;\n",
              "      display: none;\n",
              "      fill: #1967D2;\n",
              "      height: 32px;\n",
              "      padding: 0 0 0 0;\n",
              "      width: 32px;\n",
              "    }\n",
              "\n",
              "    .colab-df-convert:hover {\n",
              "      background-color: #E2EBFA;\n",
              "      box-shadow: 0px 1px 2px rgba(60, 64, 67, 0.3), 0px 1px 3px 1px rgba(60, 64, 67, 0.15);\n",
              "      fill: #174EA6;\n",
              "    }\n",
              "\n",
              "    [theme=dark] .colab-df-convert {\n",
              "      background-color: #3B4455;\n",
              "      fill: #D2E3FC;\n",
              "    }\n",
              "\n",
              "    [theme=dark] .colab-df-convert:hover {\n",
              "      background-color: #434B5C;\n",
              "      box-shadow: 0px 1px 3px 1px rgba(0, 0, 0, 0.15);\n",
              "      filter: drop-shadow(0px 1px 2px rgba(0, 0, 0, 0.3));\n",
              "      fill: #FFFFFF;\n",
              "    }\n",
              "  </style>\n",
              "\n",
              "      <script>\n",
              "        const buttonEl =\n",
              "          document.querySelector('#df-67f5942c-1280-4a2f-b98d-efda52ec257e button.colab-df-convert');\n",
              "        buttonEl.style.display =\n",
              "          google.colab.kernel.accessAllowed ? 'block' : 'none';\n",
              "\n",
              "        async function convertToInteractive(key) {\n",
              "          const element = document.querySelector('#df-67f5942c-1280-4a2f-b98d-efda52ec257e');\n",
              "          const dataTable =\n",
              "            await google.colab.kernel.invokeFunction('convertToInteractive',\n",
              "                                                     [key], {});\n",
              "          if (!dataTable) return;\n",
              "\n",
              "          const docLinkHtml = 'Like what you see? Visit the ' +\n",
              "            '<a target=\"_blank\" href=https://colab.research.google.com/notebooks/data_table.ipynb>data table notebook</a>'\n",
              "            + ' to learn more about interactive tables.';\n",
              "          element.innerHTML = '';\n",
              "          dataTable['output_type'] = 'display_data';\n",
              "          await google.colab.output.renderOutput(dataTable, element);\n",
              "          const docLink = document.createElement('div');\n",
              "          docLink.innerHTML = docLinkHtml;\n",
              "          element.appendChild(docLink);\n",
              "        }\n",
              "      </script>\n",
              "    </div>\n",
              "  </div>\n",
              "  "
            ]
          },
          "metadata": {},
          "execution_count": 22
        }
      ],
      "source": [
        "# Code Cell 6\n",
        "# Read the JSON file into a DataFrame\n",
        "la_json = pd.read_json('/content/LA_poligons.json')\n",
        "\n",
        "# Visualize the first rows of la_json DataFrame\n",
        "la_json.head()"
      ]
    },
    {
      "cell_type": "markdown",
      "metadata": {
        "id": "fFeLoqMteaxD"
      },
      "source": [
        "The information contained in this `Dataframe` will be used later in the visualization."
      ]
    },
    {
      "cell_type": "markdown",
      "metadata": {
        "id": "qihaBmk9eaxE"
      },
      "source": [
        "##### Step 4: Average the ping speed.\n",
        "For each map that will be produced, only one of the three Internet speed indicators can be visualized (average ping, upload speed, or download speed). In this lab, the focus will be on the average ping speed, but the student is encouraged to repeat the exercise to visualize upload and download speeds.\n",
        "\n",
        "###### a) Prepare the data.\n",
        "Create a new `pandas` `DataFrame` that contains only two columns: `Area` and `Average_p`, selecting them from the `DataFrame` that contains the `InternetSpeed` database data. \n",
        "Now rename the column `Area` to `LA_code`, using the method `rename()`.\n",
        "You will need to pass to the method the field `columns` with this code:\n",
        "\n",
        "    columns={'Area':'LA_code'}\n",
        "    \n",
        "1. Create the new `DataFrame`.\n",
        "2. Rename the columns.\n",
        "3. Display the first few lines of the new `DataFrame`."
      ]
    },
    {
      "cell_type": "code",
      "execution_count": 25,
      "metadata": {
        "collapsed": true,
        "scrolled": true,
        "colab": {
          "base_uri": "https://localhost:8080/",
          "height": 206
        },
        "id": "Jc39BAxpeaxE",
        "outputId": "73b287f5-20ba-4b64-dbf7-2e1176dc04e1"
      },
      "outputs": [
        {
          "output_type": "execute_result",
          "data": {
            "text/plain": [
              "     LA_code  Average_p\n",
              "0  E07000188   8.451897\n",
              "1  E07000101   8.317833\n",
              "2  E09000030   8.983481\n",
              "3  E09000031   8.956481\n",
              "4  E09000032   9.144285"
            ],
            "text/html": [
              "\n",
              "  <div id=\"df-33aca983-a24c-4f6b-860c-4a5132c43267\">\n",
              "    <div class=\"colab-df-container\">\n",
              "      <div>\n",
              "<style scoped>\n",
              "    .dataframe tbody tr th:only-of-type {\n",
              "        vertical-align: middle;\n",
              "    }\n",
              "\n",
              "    .dataframe tbody tr th {\n",
              "        vertical-align: top;\n",
              "    }\n",
              "\n",
              "    .dataframe thead th {\n",
              "        text-align: right;\n",
              "    }\n",
              "</style>\n",
              "<table border=\"1\" class=\"dataframe\">\n",
              "  <thead>\n",
              "    <tr style=\"text-align: right;\">\n",
              "      <th></th>\n",
              "      <th>LA_code</th>\n",
              "      <th>Average_p</th>\n",
              "    </tr>\n",
              "  </thead>\n",
              "  <tbody>\n",
              "    <tr>\n",
              "      <th>0</th>\n",
              "      <td>E07000188</td>\n",
              "      <td>8.451897</td>\n",
              "    </tr>\n",
              "    <tr>\n",
              "      <th>1</th>\n",
              "      <td>E07000101</td>\n",
              "      <td>8.317833</td>\n",
              "    </tr>\n",
              "    <tr>\n",
              "      <th>2</th>\n",
              "      <td>E09000030</td>\n",
              "      <td>8.983481</td>\n",
              "    </tr>\n",
              "    <tr>\n",
              "      <th>3</th>\n",
              "      <td>E09000031</td>\n",
              "      <td>8.956481</td>\n",
              "    </tr>\n",
              "    <tr>\n",
              "      <th>4</th>\n",
              "      <td>E09000032</td>\n",
              "      <td>9.144285</td>\n",
              "    </tr>\n",
              "  </tbody>\n",
              "</table>\n",
              "</div>\n",
              "      <button class=\"colab-df-convert\" onclick=\"convertToInteractive('df-33aca983-a24c-4f6b-860c-4a5132c43267')\"\n",
              "              title=\"Convert this dataframe to an interactive table.\"\n",
              "              style=\"display:none;\">\n",
              "        \n",
              "  <svg xmlns=\"http://www.w3.org/2000/svg\" height=\"24px\"viewBox=\"0 0 24 24\"\n",
              "       width=\"24px\">\n",
              "    <path d=\"M0 0h24v24H0V0z\" fill=\"none\"/>\n",
              "    <path d=\"M18.56 5.44l.94 2.06.94-2.06 2.06-.94-2.06-.94-.94-2.06-.94 2.06-2.06.94zm-11 1L8.5 8.5l.94-2.06 2.06-.94-2.06-.94L8.5 2.5l-.94 2.06-2.06.94zm10 10l.94 2.06.94-2.06 2.06-.94-2.06-.94-.94-2.06-.94 2.06-2.06.94z\"/><path d=\"M17.41 7.96l-1.37-1.37c-.4-.4-.92-.59-1.43-.59-.52 0-1.04.2-1.43.59L10.3 9.45l-7.72 7.72c-.78.78-.78 2.05 0 2.83L4 21.41c.39.39.9.59 1.41.59.51 0 1.02-.2 1.41-.59l7.78-7.78 2.81-2.81c.8-.78.8-2.07 0-2.86zM5.41 20L4 18.59l7.72-7.72 1.47 1.35L5.41 20z\"/>\n",
              "  </svg>\n",
              "      </button>\n",
              "      \n",
              "  <style>\n",
              "    .colab-df-container {\n",
              "      display:flex;\n",
              "      flex-wrap:wrap;\n",
              "      gap: 12px;\n",
              "    }\n",
              "\n",
              "    .colab-df-convert {\n",
              "      background-color: #E8F0FE;\n",
              "      border: none;\n",
              "      border-radius: 50%;\n",
              "      cursor: pointer;\n",
              "      display: none;\n",
              "      fill: #1967D2;\n",
              "      height: 32px;\n",
              "      padding: 0 0 0 0;\n",
              "      width: 32px;\n",
              "    }\n",
              "\n",
              "    .colab-df-convert:hover {\n",
              "      background-color: #E2EBFA;\n",
              "      box-shadow: 0px 1px 2px rgba(60, 64, 67, 0.3), 0px 1px 3px 1px rgba(60, 64, 67, 0.15);\n",
              "      fill: #174EA6;\n",
              "    }\n",
              "\n",
              "    [theme=dark] .colab-df-convert {\n",
              "      background-color: #3B4455;\n",
              "      fill: #D2E3FC;\n",
              "    }\n",
              "\n",
              "    [theme=dark] .colab-df-convert:hover {\n",
              "      background-color: #434B5C;\n",
              "      box-shadow: 0px 1px 3px 1px rgba(0, 0, 0, 0.15);\n",
              "      filter: drop-shadow(0px 1px 2px rgba(0, 0, 0, 0.3));\n",
              "      fill: #FFFFFF;\n",
              "    }\n",
              "  </style>\n",
              "\n",
              "      <script>\n",
              "        const buttonEl =\n",
              "          document.querySelector('#df-33aca983-a24c-4f6b-860c-4a5132c43267 button.colab-df-convert');\n",
              "        buttonEl.style.display =\n",
              "          google.colab.kernel.accessAllowed ? 'block' : 'none';\n",
              "\n",
              "        async function convertToInteractive(key) {\n",
              "          const element = document.querySelector('#df-33aca983-a24c-4f6b-860c-4a5132c43267');\n",
              "          const dataTable =\n",
              "            await google.colab.kernel.invokeFunction('convertToInteractive',\n",
              "                                                     [key], {});\n",
              "          if (!dataTable) return;\n",
              "\n",
              "          const docLinkHtml = 'Like what you see? Visit the ' +\n",
              "            '<a target=\"_blank\" href=https://colab.research.google.com/notebooks/data_table.ipynb>data table notebook</a>'\n",
              "            + ' to learn more about interactive tables.';\n",
              "          element.innerHTML = '';\n",
              "          dataTable['output_type'] = 'display_data';\n",
              "          await google.colab.output.renderOutput(dataTable, element);\n",
              "          const docLink = document.createElement('div');\n",
              "          docLink.innerHTML = docLinkHtml;\n",
              "          element.appendChild(docLink);\n",
              "        }\n",
              "      </script>\n",
              "    </div>\n",
              "  </div>\n",
              "  "
            ]
          },
          "metadata": {},
          "execution_count": 25
        }
      ],
      "source": [
        "# Code Cell 7\n",
        "dfp = df[['Area' , 'Average_p']]\n",
        "\n",
        "dfp=dfp.rename(columns={\"Area\":\"LA_code\"})\n",
        "dfp.head()\n"
      ]
    },
    {
      "cell_type": "markdown",
      "metadata": {
        "id": "TRkJYsqGeaxE"
      },
      "source": [
        "By default, `folium` uses only 6 different colors to define a colormap. Rather than defining a custom colormap, the data of the Internet speed indicator of interest will be divided into 6 bins, and each bin will be associated to a  different color. The bins must be carefully defined, in order to maximize the differences between the different areas.\n",
        "To choose the bins, it's a good idea to have a look at the range of the data. \n",
        "\n",
        "So far, the columns of a `pandas` `DataFrame` have been accessed in the following way:\n",
        "\n",
        "    df['Name_of_the_column']\n",
        "\n",
        "An alternative way to do so is:\n",
        "\n",
        "    df.Name_of_the_column"
      ]
    },
    {
      "cell_type": "code",
      "execution_count": 27,
      "metadata": {
        "collapsed": true,
        "colab": {
          "base_uri": "https://localhost:8080/"
        },
        "id": "w17MvheCeaxF",
        "outputId": "3604577e-3190-4b31-d834-eb9bb63ca271"
      },
      "outputs": [
        {
          "output_type": "stream",
          "name": "stdout",
          "text": [
            "0.0\n",
            "11.999447541819524\n"
          ]
        }
      ],
      "source": [
        "# Code Cell 8\n",
        "print(dfp.Average_p.min())\n",
        "print(dfp.Average_p.max())"
      ]
    },
    {
      "cell_type": "markdown",
      "metadata": {
        "id": "OYbmBv13eaxF"
      },
      "source": [
        "The ping time is roughly contained in the interval 0-12. If the bins are chosen to be [0, 10, 20, 30, 40, 50], all the data would fall in the first bin and all the areas would be represented with the first color. A good starting point is to take the range in which the data lives and divide it in six different parts.\n",
        "\n",
        "To create the bins, use the `numpy` method `arange()`. This method takes as input the minimum value of the range, the maximum value of the range, and the step. If 6 bins in the range 1 to 12 are required, the function call would look like: \n",
        "\n",
        "    np.arange(1, 12, (12-1)/6)\n",
        "\n",
        "###### b) Select good bins for visualization.\n",
        "Create a range of six values that goes from the minimum to the maximum value of the average ping speed and cast it to a list (`list(p_bins)`)."
      ]
    },
    {
      "cell_type": "code",
      "execution_count": 28,
      "metadata": {
        "collapsed": true,
        "colab": {
          "base_uri": "https://localhost:8080/"
        },
        "id": "DhrYTkLZeaxF",
        "outputId": "d3cc7245-a054-419a-a49c-0a464afa3877"
      },
      "outputs": [
        {
          "output_type": "stream",
          "name": "stdout",
          "text": [
            "[0.0, 1.9999079236365873, 3.9998158472731746, 5.999723770909762, 7.999631694546349, 9.999539618182936]\n"
          ]
        }
      ],
      "source": [
        "# Code Cell 9\n",
        "p_bins = np.arange(dfp.Average_p.min(), dfp.Average_p.max(), (dfp.Average_p.max()-dfp.Average_p.min())/6)\n",
        "\n",
        "p_bins = list(p_bins)\n",
        "\n",
        "print(p_bins)"
      ]
    },
    {
      "cell_type": "markdown",
      "metadata": {
        "id": "a4dItkf0eaxG"
      },
      "source": [
        "## Part 2: Visualize the data"
      ]
    },
    {
      "cell_type": "markdown",
      "metadata": {
        "id": "RHxtnosZeaxG"
      },
      "source": [
        "In the folder that contains the code, there is a Python script that contains a few functions that will help produce a data visualization on a map. The main library it uses is `folium`. The library documentation can be found here: https://folium.readthedocs.io/en/latest/).\n",
        "\n",
        "You can import the functions in a Python script just like any other library.\n",
        "\n",
        "##### Step 1: Plot the data on a map."
      ]
    },
    {
      "cell_type": "markdown",
      "metadata": {
        "id": "6pQw79nreaxG"
      },
      "source": [
        "###### a) Learn about the `folium_utils` code.\n",
        "\n",
        "Open the Python source file `folium_utils.py` and read through it. This script contains a few functions that make use of the `folium` library. \n",
        "\n",
        "Can you identify the main function that we are going to use later in the notebook?\n",
        "\n",
        "This code wraps what a user should write as multiple functions into one with a simpler interface. \n",
        "\n",
        "To produce the first map, use the function \n",
        "    \n",
        "        folium_top_x_preds_mapper()\n",
        "        \n",
        "contained in `folium_utils`."
      ]
    },
    {
      "cell_type": "code",
      "source": [
        "import folium_utils"
      ],
      "metadata": {
        "id": "-0wcehP5pHpS"
      },
      "execution_count": 10,
      "outputs": []
    },
    {
      "cell_type": "markdown",
      "metadata": {
        "id": "7-VoIiBneaxH"
      },
      "source": [
        "###### b) Call the function `folium_top_x_preds_mapper()` with the following parameters:\n",
        "\n",
        "- The `Dataframe` that contains the data to be visualized (`dfp`)\n",
        "- The `Dataframe` that contains the coordinates of the polygons (`la_json`)\n",
        "- The name of the column on which to merge the two `DataFrames` (LA_code)\n",
        "- The name of the column that contains the data to plot (Average_p)\n",
        "- The list containing the limits of the bins (`p_bins`)"
      ]
    },
    {
      "cell_type": "code",
      "execution_count": 29,
      "metadata": {
        "collapsed": true,
        "colab": {
          "base_uri": "https://localhost:8080/"
        },
        "id": "aVcad3TueaxH",
        "outputId": "0cfa2a5e-41d2-466c-ef6a-fedae90e71e1"
      },
      "outputs": [
        {
          "output_type": "stream",
          "name": "stdout",
          "text": [
            "Length mismatch 326 325\n"
          ]
        }
      ],
      "source": [
        "# Code Cell 10\n",
        "# Create the map\n",
        "mymap = folium_utils.folium_top_x_preds_mapper(dfp,\n",
        "                                               la_json,\n",
        "                                               'LA_code',\n",
        "                                               'Average_p',\n",
        "                                               p_bins)\n",
        "\n",
        "mymap"
      ]
    },
    {
      "cell_type": "markdown",
      "metadata": {
        "id": "-tsJ2RP6eaxH"
      },
      "source": [
        "What happened? The number of Local Authorities contained in the `DataFrame` `dfp` is bigger than the one contained in the `la_json`. In this case, `folium` would fail to visualize the map, resulting in an error. In `folium_utils`, a check was added to prevent this from happening, and the error message `Length mismatch` is visualized. But why is this happening?\n",
        "\n",
        "Let's examine the data:\n",
        "\n",
        "###### c) Plot the column Average_p.\n",
        "\n",
        "`pandas` provides the basic functionalities to generate plots starting from `DataFrame`s. The plot method on `Series` and `DataFrame` is just a simple wrapper around plt.plot(), but it saves a few lines of code.\n",
        "\n",
        "You can call the method `plot()` directly on the column you want to plot (`dfp.Average_p.plot()`). \n",
        "\n",
        "(See http://pandas.pydata.org/pandas-docs/version/0.18.1/visualization.html for more details about visualization in `pandas`)."
      ]
    },
    {
      "cell_type": "code",
      "execution_count": 30,
      "metadata": {
        "collapsed": true,
        "colab": {
          "base_uri": "https://localhost:8080/",
          "height": 466
        },
        "id": "7HzhyqFeeaxI",
        "outputId": "448f30a5-f116-4eed-93c1-7e94b6aaf518"
      },
      "outputs": [
        {
          "output_type": "execute_result",
          "data": {
            "text/plain": [
              "<Axes: >"
            ]
          },
          "metadata": {},
          "execution_count": 30
        },
        {
          "output_type": "display_data",
          "data": {
            "text/plain": [
              "<Figure size 640x480 with 1 Axes>"
            ],
            "image/png": "[encoded data removed]"
          },
          "metadata": {}
        }
      ],
      "source": [
        "# Code Cell 11\n",
        "# Plot the column Average_p\n",
        "dfp.Average_p.plot()\n"
      ]
    },
    {
      "cell_type": "markdown",
      "metadata": {
        "id": "mbTNU0fpeaxI"
      },
      "source": [
        "The visualization shows that there is a Local Authority for which the average internet speed is zero. Because it is clearly an anomaly, it is necessary to have a closer look.\n",
        "\n",
        "###### d) Select the row in which the average speed is zero from the `DataFrame`."
      ]
    },
    {
      "cell_type": "code",
      "execution_count": 31,
      "metadata": {
        "collapsed": true,
        "colab": {
          "base_uri": "https://localhost:8080/",
          "height": 81
        },
        "id": "_YmC_q_VeaxI",
        "outputId": "a1956493-0950-4a9b-fd6e-03443ed3f88f"
      },
      "outputs": [
        {
          "output_type": "execute_result",
          "data": {
            "text/plain": [
              "     LA_code  Average_p\n",
              "45  DateTime        0.0"
            ],
            "text/html": [
              "\n",
              "  <div id=\"df-e60410a9-0df4-48b9-b689-1ff22217c97c\">\n",
              "    <div class=\"colab-df-container\">\n",
              "      <div>\n",
              "<style scoped>\n",
              "    .dataframe tbody tr th:only-of-type {\n",
              "        vertical-align: middle;\n",
              "    }\n",
              "\n",
              "    .dataframe tbody tr th {\n",
              "        vertical-align: top;\n",
              "    }\n",
              "\n",
              "    .dataframe thead th {\n",
              "        text-align: right;\n",
              "    }\n",
              "</style>\n",
              "<table border=\"1\" class=\"dataframe\">\n",
              "  <thead>\n",
              "    <tr style=\"text-align: right;\">\n",
              "      <th></th>\n",
              "      <th>LA_code</th>\n",
              "      <th>Average_p</th>\n",
              "    </tr>\n",
              "  </thead>\n",
              "  <tbody>\n",
              "    <tr>\n",
              "      <th>45</th>\n",
              "      <td>DateTime</td>\n",
              "      <td>0.0</td>\n",
              "    </tr>\n",
              "  </tbody>\n",
              "</table>\n",
              "</div>\n",
              "      <button class=\"colab-df-convert\" onclick=\"convertToInteractive('df-e60410a9-0df4-48b9-b689-1ff22217c97c')\"\n",
              "              title=\"Convert this dataframe to an interactive table.\"\n",
              "              style=\"display:none;\">\n",
              "        \n",
              "  <svg xmlns=\"http://www.w3.org/2000/svg\" height=\"24px\"viewBox=\"0 0 24 24\"\n",
              "       width=\"24px\">\n",
              "    <path d=\"M0 0h24v24H0V0z\" fill=\"none\"/>\n",
              "    <path d=\"M18.56 5.44l.94 2.06.94-2.06 2.06-.94-2.06-.94-.94-2.06-.94 2.06-2.06.94zm-11 1L8.5 8.5l.94-2.06 2.06-.94-2.06-.94L8.5 2.5l-.94 2.06-2.06.94zm10 10l.94 2.06.94-2.06 2.06-.94-2.06-.94-.94-2.06-.94 2.06-2.06.94z\"/><path d=\"M17.41 7.96l-1.37-1.37c-.4-.4-.92-.59-1.43-.59-.52 0-1.04.2-1.43.59L10.3 9.45l-7.72 7.72c-.78.78-.78 2.05 0 2.83L4 21.41c.39.39.9.59 1.41.59.51 0 1.02-.2 1.41-.59l7.78-7.78 2.81-2.81c.8-.78.8-2.07 0-2.86zM5.41 20L4 18.59l7.72-7.72 1.47 1.35L5.41 20z\"/>\n",
              "  </svg>\n",
              "      </button>\n",
              "      \n",
              "  <style>\n",
              "    .colab-df-container {\n",
              "      display:flex;\n",
              "      flex-wrap:wrap;\n",
              "      gap: 12px;\n",
              "    }\n",
              "\n",
              "    .colab-df-convert {\n",
              "      background-color: #E8F0FE;\n",
              "      border: none;\n",
              "      border-radius: 50%;\n",
              "      cursor: pointer;\n",
              "      display: none;\n",
              "      fill: #1967D2;\n",
              "      height: 32px;\n",
              "      padding: 0 0 0 0;\n",
              "      width: 32px;\n",
              "    }\n",
              "\n",
              "    .colab-df-convert:hover {\n",
              "      background-color: #E2EBFA;\n",
              "      box-shadow: 0px 1px 2px rgba(60, 64, 67, 0.3), 0px 1px 3px 1px rgba(60, 64, 67, 0.15);\n",
              "      fill: #174EA6;\n",
              "    }\n",
              "\n",
              "    [theme=dark] .colab-df-convert {\n",
              "      background-color: #3B4455;\n",
              "      fill: #D2E3FC;\n",
              "    }\n",
              "\n",
              "    [theme=dark] .colab-df-convert:hover {\n",
              "      background-color: #434B5C;\n",
              "      box-shadow: 0px 1px 3px 1px rgba(0, 0, 0, 0.15);\n",
              "      filter: drop-shadow(0px 1px 2px rgba(0, 0, 0, 0.3));\n",
              "      fill: #FFFFFF;\n",
              "    }\n",
              "  </style>\n",
              "\n",
              "      <script>\n",
              "        const buttonEl =\n",
              "          document.querySelector('#df-e60410a9-0df4-48b9-b689-1ff22217c97c button.colab-df-convert');\n",
              "        buttonEl.style.display =\n",
              "          google.colab.kernel.accessAllowed ? 'block' : 'none';\n",
              "\n",
              "        async function convertToInteractive(key) {\n",
              "          const element = document.querySelector('#df-e60410a9-0df4-48b9-b689-1ff22217c97c');\n",
              "          const dataTable =\n",
              "            await google.colab.kernel.invokeFunction('convertToInteractive',\n",
              "                                                     [key], {});\n",
              "          if (!dataTable) return;\n",
              "\n",
              "          const docLinkHtml = 'Like what you see? Visit the ' +\n",
              "            '<a target=\"_blank\" href=https://colab.research.google.com/notebooks/data_table.ipynb>data table notebook</a>'\n",
              "            + ' to learn more about interactive tables.';\n",
              "          element.innerHTML = '';\n",
              "          dataTable['output_type'] = 'display_data';\n",
              "          await google.colab.output.renderOutput(dataTable, element);\n",
              "          const docLink = document.createElement('div');\n",
              "          docLink.innerHTML = docLinkHtml;\n",
              "          element.appendChild(docLink);\n",
              "        }\n",
              "      </script>\n",
              "    </div>\n",
              "  </div>\n",
              "  "
            ]
          },
          "metadata": {},
          "execution_count": 31
        }
      ],
      "source": [
        "# Code Cell 12\n",
        "dfp[dfp.Average_p==0]\n"
      ]
    },
    {
      "cell_type": "markdown",
      "metadata": {
        "id": "Ih6WV_6XeaxJ"
      },
      "source": [
        "DateTime is not the name of a Local Authority: there was a mistake in collecting or storing the data. \n",
        "\n",
        "##### Step 2: Fix the data and plot the data on a map again.\n",
        "\n",
        "###### a) Remove the wrong row from your `DataFrame` \n",
        "Remember that for the change to be effective, the flag `inplace` must be set to `True`."
      ]
    },
    {
      "cell_type": "code",
      "execution_count": 32,
      "metadata": {
        "collapsed": true,
        "colab": {
          "base_uri": "https://localhost:8080/",
          "height": 466
        },
        "id": "r_WoW068eaxJ",
        "outputId": "62e287a2-d443-4251-c12d-625b45de874c"
      },
      "outputs": [
        {
          "output_type": "execute_result",
          "data": {
            "text/plain": [
              "<Axes: >"
            ]
          },
          "metadata": {},
          "execution_count": 32
        },
        {
          "output_type": "display_data",
          "data": {
            "text/plain": [
              "<Figure size 640x480 with 1 Axes>"
            ],
            "image/png": "[encoded data removed]"
          },
          "metadata": {}
        }
      ],
      "source": [
        "# Code Cell 13\n",
        "# hint: you can use the index (45) to remove the row\n",
        "dfp.drop(45,inplace=True)\n",
        "\n",
        "# Plot here the cleaned data\n",
        "dfp.Average_p.plot()\n"
      ]
    },
    {
      "cell_type": "markdown",
      "metadata": {
        "id": "KyoqOrBVeaxJ"
      },
      "source": [
        "Now that the data looks better, we can plot the map again by calling the function in the folium wrapper. We need however, stop for a second and pay attention.\n"
      ]
    },
    {
      "cell_type": "markdown",
      "metadata": {
        "id": "fl1y_pH_eaxJ"
      },
      "source": [
        "#### Attention!####\n",
        "\n",
        "If using Chrome, there is currently a limit on the size of map that can be correctly visualized inside a notebook. To this end, we need to limit the size of the `dfp` `DataFrame` to the first 50 rows. The discrepancy in the size of the `dfp` and `la_json` `DataFrame`'s in this case will not cause an error, because `dfp` cannot be bigger than `la_json`, but it can be smaller.\n",
        "This is operation is not needed if using Firefox."
      ]
    },
    {
      "cell_type": "code",
      "execution_count": 15,
      "metadata": {
        "id": "cRQSdJiceaxK"
      },
      "outputs": [],
      "source": [
        "# resize the dfp DataFrame. This operation is not needed if using Firefox\n",
        "dfp = dfp.iloc[0:51]"
      ]
    },
    {
      "cell_type": "markdown",
      "metadata": {
        "id": "XI5oJY62eaxK"
      },
      "source": [
        "\n",
        "###### b) Call the function  `folium_top_x_preds_mapper()` again , with the same parameters as before."
      ]
    },
    {
      "cell_type": "code",
      "execution_count": 33,
      "metadata": {
        "collapsed": true,
        "colab": {
          "base_uri": "https://localhost:8080/",
          "height": 435
        },
        "id": "-uTdMvoweaxZ",
        "outputId": "fffd4a86-f638-4904-d285-6f9c61564912"
      },
      "outputs": [
        {
          "output_type": "stream",
          "name": "stderr",
          "text": [
            "/usr/local/lib/python3.10/dist-packages/folium/folium.py:465: FutureWarning: The choropleth  method has been deprecated. Instead use the new Choropleth class, which has the same arguments. See the example notebook 'GeoJSON_and_choropleth' for how to do this.\n",
            "  warnings.warn(\n"
          ]
        },
        {
          "output_type": "error",
          "ename": "TypeError",
          "evalue": "ignored",
          "traceback": [
            "\u001b[0;31m---------------------------------------------------------------------------\u001b[0m",
            "\u001b[0;31mTypeError\u001b[0m                                 Traceback (most recent call last)",
            "\u001b[0;32m<ipython-input-33-ea9fe2aa652a>\u001b[0m in \u001b[0;36m<cell line: 4>\u001b[0;34m()\u001b[0m\n\u001b[1;32m      2\u001b[0m \u001b[0;31m#mymap = ...?\u001b[0m\u001b[0;34m\u001b[0m\u001b[0;34m\u001b[0m\u001b[0m\n\u001b[1;32m      3\u001b[0m \u001b[0;31m#mymap\u001b[0m\u001b[0;34m\u001b[0m\u001b[0;34m\u001b[0m\u001b[0m\n\u001b[0;32m----> 4\u001b[0;31m mymap = folium_utils.folium_top_x_preds_mapper(dfp,\n\u001b[0m\u001b[1;32m      5\u001b[0m                                         \u001b[0mla_json\u001b[0m\u001b[0;34m,\u001b[0m\u001b[0;34m\u001b[0m\u001b[0;34m\u001b[0m\u001b[0m\n\u001b[1;32m      6\u001b[0m                                        \u001b[0;34m'LA_code'\u001b[0m\u001b[0;34m,\u001b[0m\u001b[0;34m\u001b[0m\u001b[0;34m\u001b[0m\u001b[0m\n",
            "\u001b[0;32m/content/folium_utils.py\u001b[0m in \u001b[0;36mfolium_top_x_preds_mapper\u001b[0;34m(preds_data, json_df, geographic_element, data_column, bins, longlat, color_palette)\u001b[0m\n\u001b[1;32m     91\u001b[0m \u001b[0;34m\u001b[0m\u001b[0m\n\u001b[1;32m     92\u001b[0m     \u001b[0;31m# Add choroplet layer to the map\u001b[0m\u001b[0;34m\u001b[0m\u001b[0;34m\u001b[0m\u001b[0m\n\u001b[0;32m---> 93\u001b[0;31m     map.choropleth(geo_str=top_x_jsons, #geographical information for the areas\n\u001b[0m\u001b[1;32m     94\u001b[0m                   \u001b[0mdata\u001b[0m\u001b[0;34m=\u001b[0m\u001b[0mtop_x_data\u001b[0m\u001b[0;34m[\u001b[0m\u001b[0;34m[\u001b[0m\u001b[0mgeographic_element\u001b[0m\u001b[0;34m,\u001b[0m\u001b[0mdata_column\u001b[0m\u001b[0;34m]\u001b[0m\u001b[0;34m]\u001b[0m\u001b[0;34m,\u001b[0m \u001b[0;31m# the data to use to colour the areas\u001b[0m\u001b[0;34m\u001b[0m\u001b[0;34m\u001b[0m\u001b[0m\n\u001b[1;32m     95\u001b[0m                   \u001b[0mcolumns\u001b[0m\u001b[0;34m=\u001b[0m\u001b[0;34m[\u001b[0m\u001b[0mgeographic_element\u001b[0m\u001b[0;34m,\u001b[0m\u001b[0mdata_column\u001b[0m\u001b[0;34m]\u001b[0m\u001b[0;34m,\u001b[0m \u001b[0;31m# values from the data to use\u001b[0m\u001b[0;34m\u001b[0m\u001b[0;34m\u001b[0m\u001b[0m\n",
            "\u001b[0;32m/usr/local/lib/python3.10/dist-packages/folium/folium.py\u001b[0m in \u001b[0;36mchoropleth\u001b[0;34m(self, *args, **kwargs)\u001b[0m\n\u001b[1;32m    471\u001b[0m         \u001b[0;32mfrom\u001b[0m \u001b[0mfolium\u001b[0m\u001b[0;34m.\u001b[0m\u001b[0mfeatures\u001b[0m \u001b[0;32mimport\u001b[0m \u001b[0mChoropleth\u001b[0m\u001b[0;34m\u001b[0m\u001b[0;34m\u001b[0m\u001b[0m\n\u001b[1;32m    472\u001b[0m \u001b[0;34m\u001b[0m\u001b[0m\n\u001b[0;32m--> 473\u001b[0;31m         \u001b[0mself\u001b[0m\u001b[0;34m.\u001b[0m\u001b[0madd_child\u001b[0m\u001b[0;34m(\u001b[0m\u001b[0mChoropleth\u001b[0m\u001b[0;34m(\u001b[0m\u001b[0;34m*\u001b[0m\u001b[0margs\u001b[0m\u001b[0;34m,\u001b[0m \u001b[0;34m**\u001b[0m\u001b[0mkwargs\u001b[0m\u001b[0;34m)\u001b[0m\u001b[0;34m)\u001b[0m\u001b[0;34m\u001b[0m\u001b[0;34m\u001b[0m\u001b[0m\n\u001b[0m\u001b[1;32m    474\u001b[0m \u001b[0;34m\u001b[0m\u001b[0m\n\u001b[1;32m    475\u001b[0m     \u001b[0;32mdef\u001b[0m \u001b[0mkeep_in_front\u001b[0m\u001b[0;34m(\u001b[0m\u001b[0mself\u001b[0m\u001b[0;34m,\u001b[0m \u001b[0;34m*\u001b[0m\u001b[0margs\u001b[0m\u001b[0;34m)\u001b[0m\u001b[0;34m:\u001b[0m\u001b[0;34m\u001b[0m\u001b[0;34m\u001b[0m\u001b[0m\n",
            "\u001b[0;31mTypeError\u001b[0m: Choropleth.__init__() missing 1 required positional argument: 'geo_data'"
          ]
        }
      ],
      "source": [
        "# Code Cell 14\n",
        "#mymap = ...?\n",
        "#mymap\n",
        "mymap = folium_utils.folium_top_x_preds_mapper(dfp,\n",
        "                                        la_json,\n",
        "                                       'LA_code',\n",
        "                                       'Average_p',\n",
        "                                        p_bins)\n",
        "mymap"
      ]
    },
    {
      "cell_type": "markdown",
      "metadata": {
        "id": "RpxkUy66eaxZ"
      },
      "source": [
        "If you have resized the `dfp` `DataFrame`, you should see a map with only one color for the 6 to 8 bin. If you haven't resized it, you should also see the 8 to 10 bin. What happened there?\n",
        "2\n",
        "​\n",
        "3\n",
        "The value 0 was removed, because it was found to be an anomaly, but the range of the bins for the colormap was not changed.\n",
        "4\n",
        "What is the new minimum value for `Average_p`?"
      ]
    },
    {
      "cell_type": "code",
      "execution_count": null,
      "metadata": {
        "collapsed": true,
        "id": "BT6PNq62eaxa"
      },
      "outputs": [],
      "source": [
        "# Code Cell 15\n",
        "print(dfp.Average_p.min())"
      ]
    },
    {
      "cell_type": "markdown",
      "metadata": {
        "id": "5ID9Pjrneaxa"
      },
      "source": [
        "It is necessary to repeat the creation of bins with the cleaned dataset. After this, call the function  `folium_top_x_preds_mapper()` to correctly visualize the average ping speed across the UK.\n",
        "###### c) Recreate the bin range, recreate the map, and visualize it."
      ]
    },
    {
      "cell_type": "code",
      "execution_count": null,
      "metadata": {
        "collapsed": true,
        "scrolled": true,
        "id": "yH4SCpYveaxb"
      },
      "outputs": [],
      "source": [
        "# Code Cell 16\n",
        "\n",
        "# p_bins = ?\n",
        "\n",
        "# p_bins = list(?)\n",
        "\n",
        "#mymap = folium_utils.folium_top_x_preds_mapper(...)\n",
        "mymap = folium_utils.folium_top_x_preds_mapper(dfp,\n",
        "                                       la_json,\n",
        "                                       'LA_code',\n",
        "                                       'Average_p',\n",
        "                                        p_bins)\n",
        "mymap\n"
      ]
    },
    {
      "cell_type": "markdown",
      "metadata": {
        "collapsed": true,
        "id": "mikNP4kFeaxb"
      },
      "source": [
        "Much better!\n",
        "\n",
        "The visualization of the data with a simple line plot lets us spot an error very easily. Sometimes a deeper investigation is needed.\n",
        "\n",
        "For additional practice, repeat the exercise, but create the visualizations for the columns Average_d (average download speed) and Average_u (average upload speed)."
      ]
    },
    {
      "cell_type": "markdown",
      "metadata": {
        "collapsed": true,
        "id": "k8NWfbDDeaxb"
      },
      "source": [
        "<font size='0.5'>&copy; 2017 Cisco and/or its affiliates. All rights reserved. This document is Cisco Public.<font>"
      ]
    }
  ],
  "metadata": {
    "anaconda-cloud": {},
    "kernelspec": {
      "display_name": "Python 3",
      "language": "python",
      "name": "python3"
    },
    "language_info": {
      "codemirror_mode": {
        "name": "ipython",
        "version": 3
      },
      "file_extension": ".py",
      "mimetype": "text/x-python",
      "name": "python",
      "nbconvert_exporter": "python",
      "pygments_lexer": "ipython3",
      "version": "3.5.3"
    },
    "colab": {
      "provenance": []
    }
  },
  "nbformat": 4,
  "nbformat_minor": 0
}